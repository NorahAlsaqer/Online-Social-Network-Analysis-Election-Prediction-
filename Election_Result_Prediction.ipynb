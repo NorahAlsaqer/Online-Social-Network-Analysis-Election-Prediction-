{
  "nbformat": 4,
  "nbformat_minor": 0,
  "metadata": {
    "colab": {
      "provenance": []
    },
    "kernelspec": {
      "name": "python3",
      "display_name": "Python 3"
    },
    "language_info": {
      "name": "python"
    }
  },
  "cells": [
    {
      "cell_type": "markdown",
      "source": [
        "# --- Install and Import Required Libraries ---"
      ],
      "metadata": {
        "id": "BurUD6N3deAs"
      }
    },
    {
      "cell_type": "code",
      "source": [
        "!pip install scikit-learn pandas numpy"
      ],
      "metadata": {
        "id": "VV3xQQcxdf3w"
      },
      "execution_count": null,
      "outputs": []
    },
    {
      "cell_type": "code",
      "source": [
        "import pandas as pd\n",
        "import numpy as np\n",
        "from sklearn.model_selection import train_test_split\n",
        "from sklearn.preprocessing import StandardScaler, LabelEncoder\n",
        "from sklearn.linear_model import LogisticRegression\n",
        "from sklearn.ensemble import RandomForestClassifier\n",
        "from sklearn.metrics import classification_report, confusion_matrix"
      ],
      "metadata": {
        "id": "7FeBPPX9dknz"
      },
      "execution_count": 1,
      "outputs": []
    },
    {
      "cell_type": "markdown",
      "source": [
        "# --- Load and Explore Dataset ---"
      ],
      "metadata": {
        "id": "AoWkGYdSdmkv"
      }
    },
    {
      "cell_type": "code",
      "source": [
        "print(\"Loading Dataset...\")\n",
        "from google.colab import files\n",
        "uploaded = files.upload()"
      ],
      "metadata": {
        "id": "P-TjHb4ZdoAN"
      },
      "execution_count": null,
      "outputs": []
    },
    {
      "cell_type": "code",
      "source": [
        "data = pd.read_csv(list(uploaded.keys())[0])\n",
        "print(\"Dataset Loaded Successfully!\")\n",
        "print(\"First 5 rows of the dataset:\")\n",
        "print(data.head())"
      ],
      "metadata": {
        "id": "ijjtEZOYdzfW"
      },
      "execution_count": null,
      "outputs": []
    },
    {
      "cell_type": "markdown",
      "source": [
        "# --- Data Preprocessing ---"
      ],
      "metadata": {
        "id": "-tIMvIDvd4Wu"
      }
    },
    {
      "cell_type": "code",
      "source": [
        "print(\"\\nCleaning and Preprocessing Data...\")\n",
        "# Remove percentage symbols and convert to numeric\n",
        "data = data.replace('%', '', regex=True).apply(pd.to_numeric, errors='coerce')\n",
        "\n",
        "# Drop columns with all NaNs and rows with any NaNs\n",
        "data = data.dropna(axis=1, how='all').dropna(axis=0, how='any')\n",
        "\n",
        "# Simulate a target column if not present (0 for Democrat, 1 for Republican)\n",
        "data['Party'] = pd.Series(['Democrat', 'Republican'] * (len(data) // 2 + 1))[:len(data)]\n",
        "\n",
        "# Encode the target column\n",
        "label_encoder = LabelEncoder()\n",
        "data['Party'] = label_encoder.fit_transform(data['Party'])  # 0: Democrat, 1: Republican\n",
        "\n",
        "# Separate features and target\n",
        "X = data.drop(columns=['Party'])\n",
        "y = data['Party']\n",
        "\n",
        "# Standardize features\n",
        "scaler = StandardScaler()\n",
        "X_scaled = scaler.fit_transform(X)\n",
        "print(\"Data Preprocessing Complete!\")"
      ],
      "metadata": {
        "id": "ZSY13D4Td402"
      },
      "execution_count": null,
      "outputs": []
    },
    {
      "cell_type": "markdown",
      "source": [
        "# --- Split Data ---"
      ],
      "metadata": {
        "id": "YovQJ6juePP0"
      }
    },
    {
      "cell_type": "code",
      "source": [
        "print(\"\\nSplitting Data...\")\n",
        "X_train, X_test, y_train, y_test = train_test_split(X_scaled, y, test_size=0.3, random_state=42)\n",
        "print(\"Train-Test Split Complete!\")"
      ],
      "metadata": {
        "id": "28v_7IuCd8n2"
      },
      "execution_count": null,
      "outputs": []
    },
    {
      "cell_type": "markdown",
      "source": [
        "# --- Logistic Regression ---"
      ],
      "metadata": {
        "id": "h76Yc3C2eSCU"
      }
    },
    {
      "cell_type": "code",
      "source": [
        "print(\"\\nTraining Logistic Regression Model...\")\n",
        "logistic_model = LogisticRegression(random_state=42, max_iter=500)\n",
        "logistic_model.fit(X_train, y_train)\n",
        "y_pred_logistic = logistic_model.predict(X_test)\n",
        "\n",
        "print(\"\\nLogistic Regression Results:\")\n",
        "print(confusion_matrix(y_test, y_pred_logistic))\n",
        "print(classification_report(y_test, y_pred_logistic))"
      ],
      "metadata": {
        "id": "GTY7WlFbeTUJ"
      },
      "execution_count": null,
      "outputs": []
    },
    {
      "cell_type": "markdown",
      "source": [
        "# --- Random Forest Classifier ---"
      ],
      "metadata": {
        "id": "cMuAfjU9eWe8"
      }
    },
    {
      "cell_type": "code",
      "source": [
        "print(\"\\nTraining Random Forest Model...\")\n",
        "rf_model = RandomForestClassifier(random_state=42, n_estimators=100)\n",
        "rf_model.fit(X_train, y_train)\n",
        "y_pred_rf = rf_model.predict(X_test)\n",
        "\n",
        "print(\"\\nRandom Forest Results:\")\n",
        "print(confusion_matrix(y_test, y_pred_rf))\n",
        "print(classification_report(y_test, y_pred_rf))"
      ],
      "metadata": {
        "id": "DbtEgdvAeXXa"
      },
      "execution_count": null,
      "outputs": []
    },
    {
      "cell_type": "markdown",
      "source": [
        "# --- Visualizing Feature Importances for Random Forest ---"
      ],
      "metadata": {
        "id": "ash2C0nXecP1"
      }
    },
    {
      "cell_type": "code",
      "source": [
        "import matplotlib.pyplot as plt\n",
        "\n",
        "feature_importances = pd.Series(rf_model.feature_importances_, index=data.columns[:-1])\n",
        "feature_importances = feature_importances.sort_values(ascending=False)\n",
        "\n",
        "plt.figure(figsize=(10, 6))\n",
        "feature_importances.head(10).plot(kind='bar')\n",
        "plt.title('Top 10 Feature Importances (Random Forest)')\n",
        "plt.ylabel('Importance Score')\n",
        "plt.xlabel('Features')\n",
        "plt.xticks(rotation=45)\n",
        "plt.show()"
      ],
      "metadata": {
        "id": "N0lAXzJieb0T"
      },
      "execution_count": null,
      "outputs": []
    },
    {
      "cell_type": "markdown",
      "source": [
        "# Presidential and Turnout\n",
        "\n",
        "\n",
        "\n"
      ],
      "metadata": {
        "id": "x-9C1JeCmCuG"
      }
    },
    {
      "cell_type": "markdown",
      "source": [
        "# --- Install Required Libraries ---"
      ],
      "metadata": {
        "id": "srIfWuRdmT00"
      }
    },
    {
      "cell_type": "code",
      "source": [
        "!pip install scikit-learn pandas numpy matplotlib seaborn"
      ],
      "metadata": {
        "id": "S57p36N0mBfi"
      },
      "execution_count": null,
      "outputs": []
    },
    {
      "cell_type": "markdown",
      "source": [
        "# --- Import Libraries ---"
      ],
      "metadata": {
        "id": "38MsjRxwmXEY"
      }
    },
    {
      "cell_type": "code",
      "source": [
        "import pandas as pd\n",
        "import numpy as np\n",
        "from sklearn.model_selection import train_test_split\n",
        "from sklearn.preprocessing import StandardScaler\n",
        "from sklearn.linear_model import LogisticRegression\n",
        "from sklearn.ensemble import RandomForestClassifier\n",
        "from sklearn.metrics import classification_report, confusion_matrix\n",
        "import seaborn as sns\n",
        "import matplotlib.pyplot as plt"
      ],
      "metadata": {
        "id": "OKNXqmZgmXtE"
      },
      "execution_count": null,
      "outputs": []
    },
    {
      "cell_type": "code",
      "source": [
        "print(\"Loading Dataset...\")\n",
        "from google.colab import files\n",
        "uploaded = files.upload()"
      ],
      "metadata": {
        "id": "z2pkhvGnmdQh"
      },
      "execution_count": null,
      "outputs": []
    },
    {
      "cell_type": "markdown",
      "source": [
        "# --- Preprocessing ---"
      ],
      "metadata": {
        "id": "0MrVeGKmmfUx"
      }
    },
    {
      "cell_type": "code",
      "source": [
        "scaler = StandardScaler()\n",
        "X_scaled = scaler.fit_transform(data[columns])"
      ],
      "metadata": {
        "id": "_18CEKIdmfs1"
      },
      "execution_count": null,
      "outputs": []
    },
    {
      "cell_type": "markdown",
      "source": [
        "# --- Train-Test Split ---"
      ],
      "metadata": {
        "id": "hMHWADUGmh5g"
      }
    },
    {
      "cell_type": "code",
      "source": [
        "X_train_presidential, X_test_presidential, y_train_presidential, y_test_presidential = train_test_split(\n",
        "    X_scaled, y_presidential, test_size=0.3, random_state=42\n",
        ")\n",
        "X_train_turnout, X_test_turnout, y_train_turnout, y_test_turnout = train_test_split(\n",
        "    X_scaled, y_turnout, test_size=0.3, random_state=42\n",
        ")"
      ],
      "metadata": {
        "id": "NMFiPIqhmiTf"
      },
      "execution_count": null,
      "outputs": []
    },
    {
      "cell_type": "markdown",
      "source": [
        "# --- Logistic Regression for Presidential Prediction ---"
      ],
      "metadata": {
        "id": "_YKZW1Geml-7"
      }
    },
    {
      "cell_type": "code",
      "source": [
        "logistic_model_presidential = LogisticRegression(random_state=42, max_iter=500)\n",
        "logistic_model_presidential.fit(X_train_presidential, y_train_presidential)\n",
        "y_pred_presidential_logistic = logistic_model_presidential.predict(X_test_presidential)"
      ],
      "metadata": {
        "id": "RFgLaYNImlkc"
      },
      "execution_count": null,
      "outputs": []
    },
    {
      "cell_type": "markdown",
      "source": [
        "# --- Random Forest for Presidential Prediction --"
      ],
      "metadata": {
        "id": "uUqf5g6Fmoe2"
      }
    },
    {
      "cell_type": "code",
      "source": [
        "print(\"\\nTraining Random Forest for Presidential Prediction...\")\n",
        "rf_model_presidential = RandomForestClassifier(random_state=42, n_estimators=100)\n",
        "rf_model_presidential.fit(X_train_presidential, y_train_presidential)\n",
        "y_pred_presidential_rf = rf_model_presidential.predict(X_test_presidential)"
      ],
      "metadata": {
        "id": "JBGTrnO1mqI8"
      },
      "execution_count": null,
      "outputs": []
    },
    {
      "cell_type": "markdown",
      "source": [
        "# --- Logistic Regression for Voter Turnout Prediction ---"
      ],
      "metadata": {
        "id": "eBNXrGazmrWw"
      }
    },
    {
      "cell_type": "code",
      "source": [
        "print(\"\\nTraining Logistic Regression for Voter Turnout Prediction...\")\n",
        "logistic_model_turnout = LogisticRegression(random_state=42, max_iter=500)\n",
        "logistic_model_turnout.fit(X_train_turnout, y_train_turnout)\n",
        "y_pred_turnout_logistic = logistic_model_turnout.predict(X_test_turnout)"
      ],
      "metadata": {
        "id": "c2MsYgnVmswu"
      },
      "execution_count": null,
      "outputs": []
    },
    {
      "cell_type": "markdown",
      "source": [
        "# --- Random Forest for Voter Turnout Prediction ---"
      ],
      "metadata": {
        "id": "BR14H4CGmu9g"
      }
    },
    {
      "cell_type": "code",
      "source": [
        "print(\"\\nTraining Random Forest for Voter Turnout Prediction...\")\n",
        "rf_model_turnout = RandomForestClassifier(random_state=42, n_estimators=100)\n",
        "rf_model_turnout.fit(X_train_turnout, y_train_turnout)\n",
        "y_pred_turnout_rf = rf_model_turnout.predict(X_test_turnout)"
      ],
      "metadata": {
        "id": "jQ4ilI4NmwdT"
      },
      "execution_count": null,
      "outputs": []
    },
    {
      "cell_type": "markdown",
      "source": [
        "# --- Evaluation ---"
      ],
      "metadata": {
        "id": "zXFq72AQmxl2"
      }
    },
    {
      "cell_type": "code",
      "source": [
        "def evaluate_model(y_test, y_pred, model_name, task):\n",
        "    print(f\"\\n{model_name} Results for {task}:\")\n",
        "    print(confusion_matrix(y_test, y_pred))\n",
        "    print(classification_report(y_test, y_pred))\n",
        "\n",
        "evaluate_model(y_test_presidential, y_pred_presidential_logistic, \"Logistic Regression\", \"Presidential Prediction\")\n",
        "evaluate_model(y_test_presidential, y_pred_presidential_rf, \"Random Forest\", \"Presidential Prediction\")\n",
        "evaluate_model(y_test_turnout, y_pred_turnout_logistic, \"Logistic Regression\", \"Voter Turnout Prediction\")\n",
        "evaluate_model(y_test_turnout, y_pred_turnout_rf, \"Random Forest\", \"Voter Turnout Prediction\")"
      ],
      "metadata": {
        "id": "AVUXGtJ2mzU2"
      },
      "execution_count": null,
      "outputs": []
    },
    {
      "cell_type": "markdown",
      "source": [
        "# --- Visualizing Confusion Matrices ---"
      ],
      "metadata": {
        "id": "6h92wNEUnCsq"
      }
    },
    {
      "cell_type": "code",
      "source": [
        "def plot_confusion_matrix(y_test, y_pred, title, labels):\n",
        "    cm = confusion_matrix(y_test, y_pred)\n",
        "    plt.figure(figsize=(6, 4))\n",
        "    sns.heatmap(cm, annot=True, fmt='d', cmap='Blues', xticklabels=labels, yticklabels=labels)\n",
        "    plt.title(title)\n",
        "    plt.xlabel(\"Predicted\")\n",
        "    plt.ylabel(\"Actual\")\n",
        "    plt.tight_layout()\n",
        "    plt.show()\n",
        "\n",
        "plot_confusion_matrix(y_test_presidential, y_pred_presidential_logistic, \"Presidential Logistic Regression CM\", [\"Democrat\", \"Republican\"])\n",
        "plot_confusion_matrix(y_test_presidential, y_pred_presidential_rf, \"Presidential Random Forest CM\", [\"Democrat\", \"Republican\"])\n",
        "plot_confusion_matrix(y_test_turnout, y_pred_turnout_logistic, \"Voter Turnout Logistic Regression CM\", [\"Low\", \"High\"])\n",
        "plot_confusion_matrix(y_test_turnout, y_pred_turnout_rf, \"Voter Turnout Random Forest CM\", [\"Low\", \"High\"])"
      ],
      "metadata": {
        "id": "AtSwO1qfnDL0"
      },
      "execution_count": null,
      "outputs": []
    },
    {
      "cell_type": "markdown",
      "source": [
        "# --- Visualizing Metrics ---"
      ],
      "metadata": {
        "id": "DaDytKzcnJxn"
      }
    },
    {
      "cell_type": "code",
      "source": [
        "def plot_metrics(title, metrics, labels):\n",
        "    df = pd.DataFrame(metrics, index=labels)\n",
        "    df.plot(kind='bar', figsize=(8, 5), colormap='viridis')\n",
        "    plt.title(title)\n",
        "    plt.ylabel(\"Score\")\n",
        "    plt.xticks(rotation=0)\n",
        "    plt.tight_layout()\n",
        "    plt.show()\n"
      ],
      "metadata": {
        "id": "ejMa5IvmnKUE"
      },
      "execution_count": null,
      "outputs": []
    },
    {
      "cell_type": "code",
      "source": [
        "plot_metrics(\"Presidential Logistic Regression Metrics\", presidential_metrics_logistic, [\"Democrat\", \"Republican\"])\n",
        "plot_metrics(\"Presidential Random Forest Metrics\", presidential_metrics_rf, [\"Democrat\", \"Republican\"])\n",
        "plot_metrics(\"Voter Turnout Logistic Regression Metrics\", turnout_metrics_logistic, [\"Low Turnout\", \"High Turnout\"])\n",
        "plot_metrics(\"Voter Turnout Random Forest Metrics\", turnout_metrics_rf, [\"Low Turnout\", \"High Turnout\"])"
      ],
      "metadata": {
        "id": "NbdoSg-EnOWI"
      },
      "execution_count": null,
      "outputs": []
    },
    {
      "cell_type": "markdown",
      "source": [],
      "metadata": {
        "id": "EOtPqk76ddSB"
      }
    }
  ]
}